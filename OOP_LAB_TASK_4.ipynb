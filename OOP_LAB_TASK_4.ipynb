{
  "nbformat": 4,
  "nbformat_minor": 0,
  "metadata": {
    "colab": {
      "name": "OOP-LAB-TASK-4.ipynb",
      "provenance": [],
      "collapsed_sections": []
    },
    "kernelspec": {
      "name": "python3",
      "display_name": "Python 3"
    },
    "language_info": {
      "name": "python"
    }
  },
  "cells": [
    {
      "cell_type": "code",
      "metadata": {
        "colab": {
          "base_uri": "https://localhost:8080/",
          "height": 0
        },
        "id": "C8EEn3kRa2kA",
        "outputId": "05d001be-4d81-40b8-8de0-fc706ea46e25"
      },
      "source": [
        "# Prathamesh P Pai\n",
        "# Roll no. 20BCS103\n",
        "\n",
        "\n",
        "#question 1\n",
        "import gc\t\t\n",
        "\n",
        "class Node:\n",
        "\t\n",
        "\n",
        "\tdef __init__(self,data):\n",
        "\t\tself.data = data\n",
        "\t\tself.next = None\n",
        "\t\n",
        "class Stack:\n",
        "\t\n",
        "\n",
        "\tdef __init__(self):\n",
        "\t\tself.head = None\n",
        "\t\n",
        "\n",
        "\tdef isempty(self):\n",
        "\t\tif self.head == None:\n",
        "\t\t\treturn True\n",
        "\t\telse:\n",
        "\t\t\treturn False\n",
        "\n",
        "\tdef push(self,data):\n",
        "\t\t\n",
        "\t\tif self.head == None:\n",
        "\t\t\tself.head=Node(data)\n",
        "\t\t\t\n",
        "\t\telse:\n",
        "\t\t\tnewnode = Node(data)\n",
        "\t\t\tnewnode.next = self.head\n",
        "\t\t\tself.head = newnode\n",
        "\t\n",
        "\n",
        "\tdef pop(self):\n",
        "\t\t\n",
        "\t\tif self.isempty():\n",
        "\t\t\treturn None\n",
        "\t\t\t\n",
        "\t\telse:\n",
        "\n",
        "\t\t\tpoppednode = self.head\n",
        "\t\t\tself.head = self.head.next\n",
        "\t\t\tpoppednode.next = None\n",
        "\t\t\treturn poppednode.data\n",
        "\n",
        "\tdef peek(self):\n",
        "\t\t\n",
        "\t\tif self.isempty():\n",
        "\t\t\treturn None\n",
        "\t\t\t\n",
        "\t\telse:\n",
        "\t\t\treturn self.head.data\n",
        "\t\n",
        "\n",
        "\tdef display(self):\n",
        "\t\t\n",
        "\t\titernode = self.head\n",
        "\t\tif self.isempty():\n",
        "\t\t\tprint(\"Stack Underflow\")\n",
        "\t\t\n",
        "\t\telse:\n",
        "\t\t\t\n",
        "\t\t\twhile(iternode != None):\n",
        "\t\t\t\t\n",
        "\t\t\t\tprint(iternode.data,\"->\",end = \" \")\n",
        "\t\t\t\titernode = iternode.next\n",
        "\t\t\treturn\n",
        "\t\t\n",
        "\n",
        "MyStack = Stack()\n",
        "\n",
        "MyStack.push(15)\n",
        "MyStack.push(30)\n",
        "MyStack.push(56)\n",
        "MyStack.push(26)\n",
        "MyStack.push(23)\n",
        "MyStack.push(19)\n",
        "\n",
        "\n",
        "MyStack.display()\n",
        "\n",
        "print(\"\\nTop element is \",MyStack.peek())\n",
        "\n",
        "MyStack.pop()\n",
        "MyStack.pop()\n",
        "\n",
        "MyStack.display()\n",
        "\n",
        "\n",
        "print(\"\\nTop element is \", MyStack.peek())\n"
      ],
      "execution_count": 24,
      "outputs": [
        {
          "output_type": "stream",
          "name": "stdout",
          "text": [
            "19 -> 23 -> 26 -> 56 -> 30 -> 15 -> \n",
            "Top element is  19\n",
            "26 -> 56 -> 30 -> 15 -> \n",
            "Top element is  26\n"
          ]
        }
      ]
    },
    {
      "cell_type": "code",
      "metadata": {
        "colab": {
          "base_uri": "https://localhost:8080/",
          "height": 0
        },
        "id": "XMQxR3jNbmII",
        "outputId": "e9630ba0-18c6-4819-d3a2-645a17fe8ca8"
      },
      "source": [
        "#QUESTION 2\n",
        "\n",
        "\n",
        "class Rectangle():\n",
        "    def init(self, l, b):\n",
        "        self.length = l\n",
        "        self.breadth  = b\n",
        "\n",
        "    def rectangle_area(self):\n",
        "        return self.length*self.breadth\n",
        "\n",
        "newRectangle = Rectangle()\n",
        "\n",
        "newRectangle.length=25\n",
        "\n",
        "newRectangle.breadth=4\n",
        "\n",
        "print(newRectangle.rectangle_area())"
      ],
      "execution_count": 12,
      "outputs": [
        {
          "output_type": "stream",
          "name": "stdout",
          "text": [
            "100\n"
          ]
        }
      ]
    },
    {
      "cell_type": "code",
      "metadata": {
        "colab": {
          "base_uri": "https://localhost:8080/",
          "height": 0
        },
        "id": "Ak_kgt7kbuvP",
        "outputId": "998bfe67-8d3d-4256-d638-f860eac32285"
      },
      "source": [
        "#question 3 :\n",
        "\n",
        "class Queue:\n",
        "    def __init__(self, size):\n",
        "        self.queue = []\n",
        "        self.size = size\n",
        "\n",
        "    def isFull(self):\n",
        "        return len(self.queue) == self.size\n",
        "\n",
        "\n",
        "    def isEmpty(self):\n",
        "        return self.queue == []\n",
        "\n",
        "\n",
        "    def peek(self):\n",
        "        if(self.isEmpty() != True):\n",
        "            return self.queue[-1]\n",
        "        else:\n",
        "            print(\"The queue is empty\")\n",
        "\n",
        "\n",
        "    def enqueue(self, item):\n",
        "        if(self.isFull() != True):\n",
        "            self.queue.insert(0, item)\n",
        "        else:\n",
        "            print(\"The queue is full\")\n",
        "\n",
        "\n",
        "    def dequeue(self):\n",
        "        if(self.isEmpty() != True):\n",
        "            return self.queue.pop()\n",
        "        else:\n",
        "            print(\"The queue is empty\")\n",
        "\n",
        "    \n",
        "\n",
        "    \n",
        "            \n",
        "\n",
        "myQueue = Queue(25)\n",
        "\n",
        "myQueue.enqueue(2)\n",
        "\n",
        "myQueue.enqueue(4)\n",
        "\n",
        "myQueue.enqueue(6)\n",
        "\n",
        "print(myQueue.queue)\n",
        "\n",
        "print(myQueue.peek())\n",
        "\n",
        "myQueue.enqueue(10)\n",
        "\n",
        "myQueue.enqueue(15)\n",
        "\n",
        "myQueue.enqueue(18)\n",
        "\n",
        "myQueue.enqueue(24)\n",
        "\n",
        "myQueue.enqueue(30)\n",
        "\n",
        "print(myQueue.queue)\n",
        "\n",
        "myQueue.dequeue()\n",
        "\n",
        "print(myQueue.queue)\n"
      ],
      "execution_count": 11,
      "outputs": [
        {
          "output_type": "stream",
          "name": "stdout",
          "text": [
            "[6, 4, 2]\n",
            "2\n",
            "[30, 24, 18, 15, 10, 6, 4, 2]\n",
            "[30, 24, 18, 15, 10, 6, 4]\n"
          ]
        }
      ]
    }
  ]
}