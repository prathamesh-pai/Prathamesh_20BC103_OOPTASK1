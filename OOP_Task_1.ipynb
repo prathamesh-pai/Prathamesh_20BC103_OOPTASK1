{
  "nbformat": 4,
  "nbformat_minor": 0,
  "metadata": {
    "colab": {
      "name": "OOP-Task-1.ipynb",
      "provenance": [],
      "collapsed_sections": []
    },
    "kernelspec": {
      "name": "python3",
      "display_name": "Python 3"
    },
    "language_info": {
      "name": "python"
    }
  },
  "cells": [
    {
      "cell_type": "code",
      "metadata": {
        "colab": {
          "base_uri": "https://localhost:8080/"
        },
        "id": "LlI2VkgzHiBV",
        "outputId": "51b1fde1-dc34-42ec-8ce2-fb851b3fbce3"
      },
      "source": [
        "#1\n",
        "def isleap(year):\n",
        "  if((year%400==0)or(year%4==0 and year %100 !=0)):\n",
        "    print(\"It's a leap year\\n\")\n",
        "  \n",
        "  else:\n",
        "    print(\"It's not a leap year\")\n",
        "\n",
        "\n",
        "\n",
        "year = int(input(\"enter the year :- \"))\n",
        "isleap(year)"
      ],
      "execution_count": null,
      "outputs": [
        {
          "output_type": "stream",
          "name": "stdout",
          "text": [
            "enter the year :- 2200\n",
            "It's not a leap year\n"
          ]
        }
      ]
    },
    {
      "cell_type": "code",
      "metadata": {
        "colab": {
          "base_uri": "https://localhost:8080/"
        },
        "id": "pAEOdoThHllA",
        "outputId": "2f055248-25c2-470c-da1a-0efffabb2ba4"
      },
      "source": [
        "#2\n",
        "def isweird(num):\n",
        "  if((num%2==1)or((num>=6 and num<=20)and num %2==0)):\n",
        "    print(\"weird\\n\")\n",
        "  else:\n",
        "    print(\"not weird\\n\")\n",
        "\n",
        "num = int(input(\"enter a number\\n\"))\n",
        "isweird(num)"
      ],
      "execution_count": null,
      "outputs": [
        {
          "output_type": "stream",
          "name": "stdout",
          "text": [
            "enter a number\n",
            "8\n",
            "weird\n",
            "\n"
          ]
        }
      ]
    },
    {
      "cell_type": "code",
      "metadata": {
        "colab": {
          "base_uri": "https://localhost:8080/"
        },
        "id": "M40z8yIiHohG",
        "outputId": "3b6e7f55-84fe-4aa3-f147-f79d196c0be0"
      },
      "source": [
        "#3\n",
        "def fashionable(guests,name,t):\n",
        "  n=0\n",
        "  for i in range (0,t-1):\n",
        "    if(name == guests[i]):\n",
        "      n = i\n",
        "      break\n",
        "  if(n>=(t//2) and n!=(t-1)):\n",
        "    print(name + \" is Fashionably late\\n\")\n",
        "  else:\n",
        "    print(name+ \" is not fashionably late \\n\")\n",
        "\n",
        "n = int(input(\"enter the number of guests \"))\n",
        "guests = []\n",
        "for i in range (0,n):\n",
        "  x = input(\"Enter the name of guest \"+str(i+1)+\": \")\n",
        "  guests.append(x)\n",
        "  print(\"\\n\")\n",
        "name = input(\" enter the name of the guest to check if the entered guest is fasionably late :-\")\n",
        "fashionable(guests,name,n)\n"
      ],
      "execution_count": null,
      "outputs": [
        {
          "output_type": "stream",
          "name": "stdout",
          "text": [
            "enter the number of guests 3\n",
            "Enter the name of guest 1: howl \n",
            "\n",
            "\n",
            "Enter the name of guest 2: bowl\n",
            "\n",
            "\n",
            "Enter the name of guest 3: mowl\n",
            "\n",
            "\n",
            " enter the name of the guest to check if the entered guest is fasionably late :-bowl\n",
            "bowl is Fashionably late\n",
            "\n"
          ]
        }
      ]
    },
    {
      "cell_type": "code",
      "metadata": {
        "colab": {
          "base_uri": "https://localhost:8080/"
        },
        "id": "FT9hegk04Taq",
        "outputId": "c03897dc-ab9e-4f3b-d3e2-4e149bf65287"
      },
      "source": [
        "#4\n",
        "def docs (articles,keyword):\n",
        "  matchedlist=[]\n",
        "  for i in articles:\n",
        "    x = i.split()\n",
        "    for j in x :\n",
        "      if(keyword.lower()==j.lower()):\n",
        "        matchedlist.append(i)\n",
        "  print(\"The filtered list is\\n\")\n",
        "  for i in matchedlist:\n",
        "    print(i+\"\\n\")\n",
        "\n",
        "n= int(input(\"enter the number of articles :- \"))\n",
        "articles = []\n",
        "for i in range (0,n):\n",
        "  x = input(\"enter the name of article \"+str(i+1)+\": \")\n",
        "  articles.append(x)\n",
        "  print(\"\\n\")\n",
        "\n",
        "keyword = input(\"enter the keyword to filter out the articles \")\n",
        "docs(articles,keyword)"
      ],
      "execution_count": null,
      "outputs": [
        {
          "output_type": "stream",
          "name": "stdout",
          "text": [
            "enter the number of articles :- 3\n",
            "enter the name of article 1: The Learn Python Challenge Rohit\n",
            "\n",
            "\n",
            "enter the name of article 2: They bought a car\n",
            "\n",
            "\n",
            "enter the name of article 3: bangalore\n",
            "\n",
            "\n",
            "enter the keyword to filter out the articles python\n",
            "The filtered list is\n",
            "\n",
            "The Learn Python Challenge Rohit\n",
            "\n"
          ]
        }
      ]
    },
    {
      "cell_type": "code",
      "metadata": {
        "colab": {
          "base_uri": "https://localhost:8080/"
        },
        "id": "rwnq8sm0CyIK",
        "outputId": "caa28563-10fe-4ca6-ce6b-37843762d394"
      },
      "source": [
        "#5\n",
        "def GP_calculate():\n",
        "  basepay = float(input(\"enter the basic pay : \"))\n",
        "  DA = 0.4 * basepay\n",
        "  HRA = 0.2 * basepay\n",
        "  return basepay + DA + HRA\n",
        "\n",
        "x= GP_calculate()\n",
        "print(\"grosspay is \",x)"
      ],
      "execution_count": null,
      "outputs": [
        {
          "output_type": "stream",
          "name": "stdout",
          "text": [
            "enter the basic pay : 23452\n",
            "grosspay is  37523.200000000004\n"
          ]
        }
      ]
    }
  ]
}