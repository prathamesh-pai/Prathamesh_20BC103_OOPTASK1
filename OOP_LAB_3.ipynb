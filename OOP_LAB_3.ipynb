{
  "nbformat": 4,
  "nbformat_minor": 0,
  "metadata": {
    "colab": {
      "name": "OOP-LAB-3.ipynb",
      "provenance": []
    },
    "kernelspec": {
      "name": "python3",
      "display_name": "Python 3"
    },
    "language_info": {
      "name": "python"
    }
  },
  "cells": [
    {
      "cell_type": "code",
      "metadata": {
        "id": "b38TqtySni6P",
        "colab": {
          "base_uri": "https://localhost:8080/"
        },
        "outputId": "fa9444be-b27d-4c37-e9aa-66286415c7f5"
      },
      "source": [
        "class Student:\n",
        "  def data(self):\n",
        "    self.name = str(input(\"Enter student's name :\"))\n",
        "    self.regNo = str(input(\"Enter registration number :\"))\n",
        "    self.age = int(input(\"Enter student's age :\"))\n",
        "    self.gender = str(input(\"Enter student's gender :\"))\n",
        "    self.branch = str(input(\"Enter student's branch :\"))\n",
        "    self.semester = str(input(\"Enter semester :\"))\n",
        "\n",
        "  def display(self):\n",
        "    print(f\"\\n Name: {self.name}\\n Reg. no: {(self.regNo)}\\n Age: {(self.age)}\\n Gender:{self.gender}\\n Branch: {self.branch}\\n Semester: {self.semester}\")\n",
        "\n",
        "class StudentResultInfo(Student):\n",
        "  def __init__(self, totalMarks, percentage, grade):\n",
        "    self.totalMarks = totalMarks\n",
        "    self.percentage = percentage\n",
        "    self.grade = grade\n",
        "\n",
        "  def displayData(self):\n",
        "    \n",
        "    self.display()\n",
        "    print(f\"\\n Total marks: {(self.totalMarks)}\\n Percentage: {(self.percentage)}% \\n Grade: {self.grade}\")\n",
        "\n",
        "std1 = StudentResultInfo(950, 95, 'A+')\n",
        "std1.data()\n",
        "std1.displayData()"
      ],
      "execution_count": 9,
      "outputs": [
        {
          "output_type": "stream",
          "name": "stdout",
          "text": [
            "Enter student's name :Prathamesh P Pai\n",
            "Enter registration number :20BCS103\n",
            "Enter student's age :19\n",
            "Enter student's gender :Male\n",
            "Enter student's branch :CSE\n",
            "Enter semester :Third\n",
            "\n",
            " Name: Prathamesh P Pai\n",
            " Reg. no: 20BCS103\n",
            " Age: 19\n",
            " Gender:Male\n",
            " Branch: CSE\n",
            " Semester: Third\n",
            "\n",
            " Total marks: 950\n",
            " Percentage: 95% \n",
            " Grade: A+\n"
          ]
        }
      ]
    },
    {
      "cell_type": "code",
      "metadata": {
        "colab": {
          "base_uri": "https://localhost:8080/"
        },
        "id": "pTZ0lVzpMhps",
        "outputId": "c7270465-1466-4400-d558-0bf8df651fc7"
      },
      "source": [
        "\n",
        "class PDFs:\n",
        "  def __init__(self, creator, description, size):\n",
        "    self.creator = creator\n",
        "    self.description = description\n",
        "    self.size = size\n",
        "\n",
        "  def displayInfo(self):\n",
        "    print(\"Created by:\",self.creator)\n",
        "    print(\"Description:\", self.description)\n",
        "    print(\"File size (in KBs):\", self.size)\n",
        "\n",
        "  def sizeLimit(self):\n",
        "    if self.size > 256:\n",
        "      print(\"Size exceeds the threshold.\\n\")\n",
        "    else:\n",
        "      print(\"Size is within the threshold.\\n\")\n",
        "\n",
        "class Pictures(PDFs):\n",
        "  def __init__(self, creator, description, size, dimension):\n",
        "    super().__init__(creator, description, size)\n",
        "    self.dimension = dimension\n",
        "\n",
        "  def displayPicInfo(self):\n",
        "    self.displayInfo()\n",
        "    print(\"Dimensions (in pixels):\", self.dimension)\n",
        "\n",
        "  def dimensionLimit(self):\n",
        "    if self.dimension>4000:\n",
        "      print(\" high dimension!\\n\")\n",
        "    else:\n",
        "      print(\"Dimensions are fine.\\n\")\n",
        "      \n",
        "pdf1 = PDFs(\"Prathamesh P Pai\", \"Its a PDF\", 100)\n",
        "pdf1.displayInfo()\n",
        "pdf1.sizeLimit()\n",
        "print()\n",
        "img = Pictures(\"Prathamesh P Pai\", \"Its an image\", 3584, 2275)\n",
        "img.displayPicInfo()\n",
        "img.dimensionLimit()"
      ],
      "execution_count": 13,
      "outputs": [
        {
          "output_type": "stream",
          "name": "stdout",
          "text": [
            "Created by: Prathamesh P Pai\n",
            "Description: Its a PDF\n",
            "File size (in KBs): 100\n",
            "Size is within the threshold.\n",
            "\n",
            "\n",
            "Created by: Prathamesh P Pai\n",
            "Description: Its an image\n",
            "File size (in KBs): 3584\n",
            "Dimensions (in pixels): 2275\n",
            "Dimensions are fine.\n",
            "\n"
          ]
        }
      ]
    },
    {
      "cell_type": "code",
      "metadata": {
        "colab": {
          "base_uri": "https://localhost:8080/"
        },
        "id": "VxH0_AoIPRg7",
        "outputId": "42b6fda2-141b-43c2-a758-6fd77a3260ab"
      },
      "source": [
        "class Vehicle:\n",
        "    def __init__(self, name, mileage, capacity):\n",
        "        self.name = name\n",
        "        self.mileage = mileage\n",
        "        self.capacity = capacity\n",
        "\n",
        "    def cap(self):\n",
        "        return self.capacity * 100\n",
        "\n",
        "class Bus(Vehicle):\n",
        "    def __init__(self, name, mileage, capacity=50):\n",
        "        Vehicle.__init__(self, name, mileage, capacity)\n",
        "        self.finalAmount = Vehicle.cap(self) * 1.1\n",
        "\n",
        "    def busFare(self):\n",
        "        print(f\"Total Fare : {self.finalAmount}\")\n",
        "\n",
        "car1 = Vehicle(\"Swift\", 30, 5)\n",
        "print(f\"Car Fare : {car1.cap()}\")\n",
        "bus1 = Bus(\"Airavata\", 10, 50)\n",
        "bus1.busFare()"
      ],
      "execution_count": 14,
      "outputs": [
        {
          "output_type": "stream",
          "name": "stdout",
          "text": [
            "Car Fare : 500\n",
            "Total Fare : 5500.0\n"
          ]
        }
      ]
    }
  ]
}