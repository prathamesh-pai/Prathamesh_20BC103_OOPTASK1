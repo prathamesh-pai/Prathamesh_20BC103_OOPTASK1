{
  "nbformat": 4,
  "nbformat_minor": 0,
  "metadata": {
    "colab": {
      "name": "OOP-LAB-2.ipynb",
      "provenance": []
    },
    "kernelspec": {
      "name": "python3",
      "display_name": "Python 3"
    },
    "language_info": {
      "name": "python"
    }
  },
  "cells": [
    {
      "cell_type": "code",
      "metadata": {
        "colab": {
          "base_uri": "https://localhost:8080/"
        },
        "id": "5DaePwcBzRQF",
        "outputId": "fcd42421-060e-43bc-ef88-591aac45a0d7"
      },
      "source": [
        "#1\n",
        "from math import pi\n",
        "class Circle:\n",
        "    def __init__(self, radius):\n",
        "        self.radius = radius\n",
        "\n",
        "    def circumference(self):\n",
        "        return (2 * (pi) * self.radius)\n",
        "\n",
        "    def area(self):\n",
        "        return (pi) * (self.radius ** 2)\n",
        "\n",
        "radius = float(input(\"enter the radius of the circle \"))\n",
        "circle = Circle(radius)\n",
        "print(f'The circumference of the circle is {circle.circumference()} and the area of the circle is {circle.area()}')\n",
        " "
      ],
      "execution_count": null,
      "outputs": [
        {
          "output_type": "stream",
          "name": "stdout",
          "text": [
            "enter the radius of the circle 5\n",
            "The circumference of the circle is 31.41592653589793 and the area of the circle is 78.53981633974483\n"
          ]
        }
      ]
    },
    {
      "cell_type": "code",
      "metadata": {
        "id": "MtnjGtgHGKZB",
        "colab": {
          "base_uri": "https://localhost:8080/"
        },
        "outputId": "1d6e2ea4-b0c6-4dd6-a7ea-fbdb04e5026c"
      },
      "source": [
        "#2\n",
        "class Faculty:\n",
        "    \n",
        "    def input_data(self):\n",
        "        self.name = str(input(\"Enter the name of the Employee : \"))\n",
        "        self.emp_ID = str(input(\"Enter the employee ID : \"))\n",
        "        self.branch = str(input(\"Enter the branch : \"))\n",
        "        self.salary = int(input(\"Enter the salary : \"))\n",
        "\n",
        "    def out_data(self):\n",
        "        print(f\"Faculty Name : {self.name} \\n Faculty Employee ID : {self.emp_ID} \\n Faculty Branch : {self.branch} \\n Faculty Salary : {self.salary}\\n\")\n",
        "        \n",
        "\n",
        "list_of_faculty = []\n",
        "for x in range(0,5):\n",
        "    faculty = Faculty()\n",
        "    print(f\"\\nEnter the data of employee {x+1} : \")\n",
        "    faculty.input_data()\n",
        "    list_of_faculty.append(faculty)\n",
        "\n",
        "for x in range(0,5):\n",
        "    print(f\"\\n\\n\\nData of {x+1}th employee : \")\n",
        "    list_of_faculty[x].out_data()"
      ],
      "execution_count": null,
      "outputs": [
        {
          "output_type": "stream",
          "name": "stdout",
          "text": [
            "\n",
            "Enter the data of employee 1 : \n",
            "Enter the name of the Employee : Prathamesh \n",
            "Enter the employee ID : 20BCS103\n",
            "Enter the branch : CSE\n",
            "Enter the salary : 10000000\n",
            "\n",
            "Enter the data of employee 2 : \n",
            "Enter the name of the Employee : Prathamesh2\n",
            "Enter the employee ID : 20BCS103\n",
            "Enter the branch : ECE\n",
            "Enter the salary : 2000000\n",
            "\n",
            "Enter the data of employee 3 : \n",
            "Enter the name of the Employee : Prathamesh3\n",
            "Enter the employee ID : 20BCS104\n",
            "Enter the branch : DSAI\n",
            "Enter the salary : 1000000\n",
            "\n",
            "Enter the data of employee 4 : \n",
            "Enter the name of the Employee : Meshpratha\n",
            "Enter the employee ID : 20CBS301\n",
            "Enter the branch : 00000001\n",
            "Enter the salary : 10000000\n",
            "\n",
            "Enter the data of employee 5 : \n",
            "Enter the name of the Employee : hesrathamp\n",
            "Enter the employee ID : CSB013\n",
            "Enter the branch : ECS\n",
            "Enter the salary : 1000000100\n",
            "\n",
            "\n",
            "\n",
            "Data of 1th employee : \n",
            "Faculty Name : Prathamesh  \n",
            " Faculty Employee ID : 20BCS103 \n",
            " Faculty Branch : CSE \n",
            " Faculty Salary : 10000000\n",
            "\n",
            "\n",
            "\n",
            "\n",
            "Data of 2th employee : \n",
            "Faculty Name : Prathamesh2 \n",
            " Faculty Employee ID : 20BCS103 \n",
            " Faculty Branch : ECE \n",
            " Faculty Salary : 2000000\n",
            "\n",
            "\n",
            "\n",
            "\n",
            "Data of 3th employee : \n",
            "Faculty Name : Prathamesh3 \n",
            " Faculty Employee ID : 20BCS104 \n",
            " Faculty Branch : DSAI \n",
            " Faculty Salary : 1000000\n",
            "\n",
            "\n",
            "\n",
            "\n",
            "Data of 4th employee : \n",
            "Faculty Name : Meshpratha \n",
            " Faculty Employee ID : 20CBS301 \n",
            " Faculty Branch : 00000001 \n",
            " Faculty Salary : 10000000\n",
            "\n",
            "\n",
            "\n",
            "\n",
            "Data of 5th employee : \n",
            "Faculty Name : hesrathamp \n",
            " Faculty Employee ID : CSB013 \n",
            " Faculty Branch : ECS \n",
            " Faculty Salary : 1000000100\n",
            "\n"
          ]
        }
      ]
    },
    {
      "cell_type": "code",
      "metadata": {
        "colab": {
          "base_uri": "https://localhost:8080/"
        },
        "id": "CohIVu0etdF4",
        "outputId": "1d533634-dab7-43c1-e566-9fb87c44f389"
      },
      "source": [
        "#3\n",
        "class Account:\n",
        "    def __init__(self, account_number, account_holder_name, amount):\n",
        "        self.accountNumber = account_number\n",
        "        self.accountHolderName = account_holder_name\n",
        "        self.amount = amount\n",
        "\n",
        "    def deposit(self):\n",
        "        deposit_Amount = int(input(\"Enter the amount of money you wish to deposit in your bank account: \"))\n",
        "        self.amount += deposit_Amount\n",
        "        print(f\"You have  deposited : {deposit_Amount} rupees \\nYour current balance is : {self.amount} rupees\")\n",
        "\n",
        "    def withdraw(self):\n",
        "        withdraw_Amount = int(input(\"Enter the amount of money you wish to withdraw from your account: \"))\n",
        "        if withdraw_Amount > self.amount:\n",
        "            print(\"Not enough money available in your bank account!.\")\n",
        "            return -1\n",
        "        self.amount -= withdraw_Amount\n",
        "        print(f\"{withdraw_Amount} rupees have been withdrawn from your account \\nYour current balance is {self.amount} rupees\")\n",
        "        return withdraw_Amount\n",
        "\n",
        "    def check_bank_Balance(self):\n",
        "        print(f\"Your account balance is : {self.amount} rupees\")\n",
        "        return self.amount\n",
        "\n",
        "    def getDetails(self):\n",
        "        print(f\"\\nAccount Number : {self.accountNumber} \\nAccount Holder Name : {self.accountHolderName} \\nAccount Balance : {self.amount}\")\n",
        "        return self.accountNumber, self.accountHolderName, self.amount\n",
        "\n",
        "account = Account(20103, \"Prathamesh P Pai\", 1000000)\n",
        "account.deposit()\n",
        "withdraw = account.withdraw()\n",
        "balance = account.check_bank_Balance()\n",
        "details = account.getDetails()"
      ],
      "execution_count": null,
      "outputs": [
        {
          "output_type": "stream",
          "name": "stdout",
          "text": [
            "Enter the amount of money you wish to deposit in your bank account: 1000000\n",
            "You have  deposited : 1000000 rupees \n",
            "Your current balance is : 2000000 rupees\n",
            "Enter the amount of money you wish to withdraw from your account: 20000\n",
            "20000 rupees have been withdrawn from your account \n",
            "Your current balance is 1980000 rupees\n",
            "Your account balance is : 1980000 rupees\n",
            "\n",
            "Account Number : 20103 \n",
            "Account Holder Name : Prathamesh P Pai \n",
            "Account Balance : 1980000\n"
          ]
        }
      ]
    },
    {
      "cell_type": "code",
      "metadata": {
        "id": "rdSz3TZVypcd",
        "colab": {
          "base_uri": "https://localhost:8080/"
        },
        "outputId": "8e7908f1-166e-46e2-bd09-6e303aec0e6b"
      },
      "source": [
        "#4\n",
        "class student():\n",
        "  def __init__(self,Student_Name,Student_USN,Student_Marks):\n",
        "    self.Student_Name = Student_Name\n",
        "    self.Student_USN = Student_USN\n",
        "    self.Student_Marks = Student_Marks\n",
        "  def Students_Name(self):\n",
        "    print(\"Student Name: \", self.Student_Name)\n",
        "  def Students_USN(self):\n",
        "    print(\"Student USN: \", self.Student_USN)\n",
        "  def Students_Marks(self):\n",
        "    print(\"Student Marks: \",self.Student_Marks)\n",
        "marks = []\n",
        "marks.append(100)   \n",
        "marks.append(99)\n",
        "marks.append(98)\n",
        "\n",
        "s1 = student(\"Prathamesh P Pai\", 103, marks)\n",
        "s1.Students_Name()\n",
        "s1.Students_USN()\n",
        "s1.Students_Marks()"
      ],
      "execution_count": 24,
      "outputs": [
        {
          "output_type": "stream",
          "name": "stdout",
          "text": [
            "Student Name:  Prathamesh P Pai\n",
            "Student USN:  103\n",
            "Student Marks:  [100, 99, 98]\n"
          ]
        }
      ]
    },
    {
      "cell_type": "code",
      "metadata": {
        "id": "zt0y6AcizBd7",
        "colab": {
          "base_uri": "https://localhost:8080/"
        },
        "outputId": "15d9fc5a-85ae-4ea0-eb8f-9a4959cdf027"
      },
      "source": [
        "#5\n",
        "class Patient:\n",
        "  def __init__(self, name, admission_date, symptoms : list, oxygen_level, discharge_date):\n",
        "    self.name = name\n",
        "    self.admission_date = admission_date\n",
        "    self.symptoms = symptoms\n",
        "    self.oxygen_level = oxygen_level\n",
        "    self.discharge_date = discharge_date\n",
        "\n",
        "class Data:\n",
        "  def __init__(self):\n",
        "    self.oxygen_support = []\n",
        "    self.general_ward = []\n",
        "\n",
        "  def Patient(self, patient):\n",
        "    if (patient.oxygen_level < 90):\n",
        "      self.oxygen_support.append(patient)\n",
        "    else:\n",
        "      self.general_ward.append(patient)\n",
        "\n",
        "  def numberOxygen(self):\n",
        "    print(f\"Total number of patients who need oxygen support : {len(self.oxygen_support)}\")\n",
        "\n",
        "  def numberGeneral(self):\n",
        "    print(f\"Total number of patients in general ward : {len(self.general_ward)}\")\n",
        "\n",
        "  def totalPatients(self):\n",
        "    print(f\"Total number of patients : {len(self.general_ward)+len(self.oxygen_support)}\")\n",
        "\n",
        "  def patientInfo(self):\n",
        "    print(\"Patients in oxygen support\")\n",
        "    for patient in self.oxygen_support:\n",
        "      \n",
        "      print(\"Name:\", patient.name)\n",
        "      print(\"Admission Date:\", patient.admission_date)\n",
        "      print(\"symptoms:\", patient.symptoms)\n",
        "      print(\"oxygen level:\", patient.oxygen_level)\n",
        "      print(\"Discharge Date:\", patient.discharge_date)\n",
        "      print(\"\\n\")\n",
        "\n",
        "    print(\"Patients in General ward\")\n",
        "    for patient in self.general_ward:\n",
        "      print(\"Name:\", patient.name)\n",
        "      print(\"Admission Date:\", patient.admission_date)\n",
        "      print(\"symptoms:\", patient.symptoms)\n",
        "      print(\"oxygen level:\", patient.oxygen_level)\n",
        "      print(\"Discharge Date:\", patient.discharge_date)\n",
        "      print(\"\\n\")\n",
        "\n",
        "patient1 = Patient(\"Prathamesh\", \"15/09/2021\", [\"Fever\", \"Nausea\"], 60, \"22/09/2021\")\n",
        "patient2 = Patient(\"Rajesh\", \"16/09/2021\", [\"Fatigue\", \"Fever\"], 130, \"27/09/2021\")\n",
        "\n",
        "db = Data()\n",
        "db.Patient(patient1)\n",
        "db.Patient(patient2)\n",
        "db.patientInfo()\n",
        "db.numberOxygen()\n",
        "db.numberGeneral()\n",
        "db.totalPatients()"
      ],
      "execution_count": 27,
      "outputs": [
        {
          "output_type": "stream",
          "name": "stdout",
          "text": [
            "Patients in oxygen support\n",
            "Name: Prathamesh\n",
            "Admission Date: 15/09/2021\n",
            "symptoms: ['Fever', 'Nausea']\n",
            "oxygen level: 60\n",
            "Discharge Date: 22/09/2021\n",
            "\n",
            "\n",
            "Patients in General ward\n",
            "Name: Rajesh\n",
            "Admission Date: 16/09/2021\n",
            "symptoms: ['Fatigue', 'Fever']\n",
            "oxygen level: 130\n",
            "Discharge Date: 27/09/2021\n",
            "\n",
            "\n",
            "Total number of patients who need oxygen support : 1\n",
            "Total number of patients in general ward : 1\n",
            "Total number of patients : 2\n"
          ]
        }
      ]
    },
    {
      "cell_type": "code",
      "metadata": {
        "id": "JrFxPgvAzDzK",
        "colab": {
          "base_uri": "https://localhost:8080/"
        },
        "outputId": "1fa3941b-97d2-4e34-f101-44e0bc958484"
      },
      "source": [
        "#6\n",
        "class time():\n",
        "  def __init__(self,hr=0,min=0,sec=0):\n",
        "    self.hour = hr\n",
        "    self.minute = min\n",
        "    self.second = sec\n",
        "  def dis(self):\n",
        "    print(\"Time :\",self.hour,\":\",self.minute,\":\",self.second)\n",
        "t1 = time()\n",
        "t1.dis()\n",
        "t1.hour = 11\n",
        "t1.minute = 59\n",
        "t1.second = 59\n",
        "t1.dis()"
      ],
      "execution_count": 28,
      "outputs": [
        {
          "output_type": "stream",
          "name": "stdout",
          "text": [
            "Time : 0 : 0 : 0\n",
            "Time : 11 : 59 : 59\n"
          ]
        }
      ]
    },
    {
      "cell_type": "code",
      "metadata": {
        "id": "r83Y2C5VzF4y",
        "colab": {
          "base_uri": "https://localhost:8080/"
        },
        "outputId": "59ac98d0-7066-4e2f-e0c6-1e73a18f49e2"
      },
      "source": [
        "#7\n",
        "class student():\n",
        "  def __init__(self,Student_Name,Student_Age,Student_Roll):\n",
        "    self.Name = Student_Name\n",
        "    self.Age = Student_Age\n",
        "    self.Roll = Student_Roll\n",
        "\n",
        "s1 = student(\"Rahul\", 21, 33)\n",
        "s2 = student(\"Rohit\", 22, 74)\n",
        "def check(s1, s2):\n",
        "  if s1.Age == s2.Age:\n",
        "    print(\"Age of both the students are equal\")\n",
        "  else:\n",
        "    print(\"Age of the students are not equal\")\n",
        "check(s1,s2)"
      ],
      "execution_count": 29,
      "outputs": [
        {
          "output_type": "stream",
          "name": "stdout",
          "text": [
            "Age of the students are not equal\n"
          ]
        }
      ]
    },
    {
      "cell_type": "code",
      "metadata": {
        "id": "7d4SQkYazIRV",
        "colab": {
          "base_uri": "https://localhost:8080/"
        },
        "outputId": "a8ad8db2-6c86-457b-8a7e-8034586c125f"
      },
      "source": [
        "#8\n",
        "class student():\n",
        "  semester = \"3\"\n",
        "  institute = \"Indian institute of iinformation technology, Dharwad\"\n",
        "  def __init__(self,Name,USN):\n",
        "    self.Name = Name\n",
        "    self.USN = USN\n",
        "  def display(self):\n",
        "    print(\"Student Name: \",self.Name)\n",
        "    print(\"Student USN: \",self.USN)\n",
        "\n",
        "  @classmethod\n",
        "  def dis_class(cls):\n",
        "    print(\"Semester\",cls.semester)\n",
        "    print(\"Institute\",cls.institute,\"\\n\\n\")\n",
        "    \n",
        "  @staticmethod\n",
        "  def printclass(Name, USN, semester, institute):\n",
        "    print(\"Student name: \",Name)\n",
        "    print(\"student USN: \", USN)\n",
        "    print(\"semester: \",semester)\n",
        "    print(\"Institute: \",institute)\n",
        "\n",
        "s1 = student(\"Prathamesh P Pai\", 103)\n",
        "s1.display()\n",
        "s1.dis_class()\n",
        "s1.printclass(\"Prathamesh P Pai\",103,\"3\", \"Indian institute of iinformation technology, Dharwad\")"
      ],
      "execution_count": 30,
      "outputs": [
        {
          "output_type": "stream",
          "name": "stdout",
          "text": [
            "Student Name:  Prathamesh P Pai\n",
            "Student USN:  103\n",
            "Semester 3\n",
            "Institute Indian institute of iinformation technology, Dharwad \n",
            "\n",
            "\n",
            "Student name:  Prathamesh P Pai\n",
            "student USN:  103\n",
            "semester:  3\n",
            "Institute:  Indian institute of iinformation technology, Dharwad\n"
          ]
        }
      ]
    },
    {
      "cell_type": "code",
      "metadata": {
        "id": "k_bYzfeBzKyL",
        "colab": {
          "base_uri": "https://localhost:8080/"
        },
        "outputId": "74b8cb85-fc5f-45e1-f836-a970e8ca0d64"
      },
      "source": [
        "#9\n",
        "class Student_Uni:\n",
        "\n",
        "  def __init__(self, Name, roll_number, semester, laptop_name, laptop_cpu, laptop_ram, laptop_hard_disk):\n",
        "    self.name = Name\n",
        "    self.roll_num = roll_number\n",
        "    self.sem = semester\n",
        "    self.laptop = self.Laptop(laptop_name, laptop_cpu, laptop_ram, laptop_hard_disk)\n",
        "\n",
        "\n",
        "  class Laptop:\n",
        "    def __init__(self, name, cpu, ram : int, hard_disk):\n",
        "      self.name = name\n",
        "      self.cpu = cpu\n",
        "      self.ram = ram\n",
        "      self.hard_disk = hard_disk\n",
        "\n",
        "    def specifications(self):\n",
        "      print(\"Laptop Name:\", self.name)\n",
        "      print(\"Laptop CPU:\", self.cpu)\n",
        "      print(\"Laptop RAM:\", self.ram, \"GB\")\n",
        "      print(\"Laptop Hard disk:\", self.hard_disk)\n",
        "\n",
        "  def disp(self):\n",
        "    print(\"Name:\", self.name)\n",
        "    print(\"Roll Number:\", self.roll_num)\n",
        "    print(\"Sem:\", self.sem)\n",
        "    self.laptop.specifications()\n",
        "\n",
        "x = Student_Uni(\"Prathamesh P Pai\", 103 , 3,\"Lenovo Legion 5i\", \"Intel i7\", 8, \"512 GB SSD 1 TB HDD\")\n",
        "x.disp()"
      ],
      "execution_count": 31,
      "outputs": [
        {
          "output_type": "stream",
          "name": "stdout",
          "text": [
            "Name: Prathamesh P Pai\n",
            "Roll Number: 103\n",
            "Sem: 3\n",
            "Laptop Name: Lenovo Legion 5i\n",
            "Laptop CPU: Intel i7\n",
            "Laptop RAM: 8 GB\n",
            "Laptop Hard disk: 512 GB SSD 1 TB HDD\n"
          ]
        }
      ]
    }
  ]
}