{
  "nbformat": 4,
  "nbformat_minor": 0,
  "metadata": {
    "colab": {
      "name": "OOP TASK-05",
      "provenance": [],
      "collapsed_sections": [],
      "authorship_tag": "ABX9TyNfh4GU00WT85fsedLCj+Ks",
      "include_colab_link": true
    },
    "kernelspec": {
      "name": "python3",
      "display_name": "Python 3"
    },
    "language_info": {
      "name": "python"
    }
  },
  "cells": [
    {
      "cell_type": "markdown",
      "metadata": {
        "id": "view-in-github",
        "colab_type": "text"
      },
      "source": [
        "<a href=\"https://colab.research.google.com/github/prathamesh-pai/Prathamesh_20BCS103_OOP_LAB/blob/main/OOP_TASK_05.ipynb\" target=\"_parent\"><img src=\"https://colab.research.google.com/assets/colab-badge.svg\" alt=\"Open In Colab\"/></a>"
      ]
    },
    {
      "cell_type": "markdown",
      "metadata": {
        "id": "VvOpOIueqOk5"
      },
      "source": [
        "Question no.1 "
      ]
    },
    {
      "cell_type": "code",
      "metadata": {
        "id": "N70jDBWo7r6n"
      },
      "source": [
        "from abc import ABC, abstractmethod\n",
        "from math import pi, pow\n",
        "\n",
        "\n",
        "class Shape(ABC):\n",
        "    @abstractmethod\n",
        "    def area(self):\n",
        "        pass\n",
        "\n",
        "class Square(Shape):\n",
        "    def __init__(self, len):\n",
        "        self.side = len\n",
        "    \n",
        "    def area(self):\n",
        "        return round(pow(self.side, 2), 2)\n",
        "\n",
        "\n",
        "class Circle(Shape):\n",
        "    def __init__(self, radius):\n",
        "        self.radius = radius\n",
        "\n",
        "    def area(self):\n",
        "        return round(pi * pow(self.radius, 2), 2)\n",
        "\n",
        "\n",
        "class Rectangle(Shape):\n",
        "    def __init__(self, l, b):\n",
        "        self.l = l\n",
        "        self.b = b\n",
        "    \n",
        "    def area(self):\n",
        "        return round(self.l * self.b, 2)\n"
      ],
      "execution_count": null,
      "outputs": []
    },
    {
      "cell_type": "markdown",
      "metadata": {
        "id": "g8B9P9BEqVn5"
      },
      "source": [
        "Question no.2"
      ]
    },
    {
      "cell_type": "code",
      "metadata": {
        "id": "36Y-tPtoK-WD"
      },
      "source": [
        "from abc import ABC, abstractmethod\n",
        "\n",
        "class travel:\n",
        "    def __init__(self ,passengers ,dist ,mode):\n",
        "        \n",
        "        self.__count = passengers\n",
        "        self.distance = dist\n",
        "        self.mode = mode\n",
        "    \n",
        "    def get_count(self):\n",
        "        return self.__count\n",
        "    \n",
        "    @abstractmethod\n",
        "    def total_cost(self):\n",
        "        pass\n",
        "\n",
        "\n",
        "class Bus(travel):\n",
        "    def __init__(self, passengers, dist, mode=\"Bus\"):\n",
        "        super().__init__(passengers, dist, mode)\n",
        "        self.cost = 100\n",
        "    \n",
        "    def total_cost(self):\n",
        "        return self.cost*self.get_count()\n",
        "    \n",
        "\n",
        "class Train(travel):\n",
        "    def __init__(self ,passengers ,dist ,mode=\"Train\"):\n",
        "        super().__init__(passengers, dist, mode)\n",
        "        self.cost = 60\n",
        "    \n",
        "    def total_cost(self):\n",
        "        return self.cost*self.get_count()\n"
      ],
      "execution_count": 12,
      "outputs": []
    },
    {
      "cell_type": "markdown",
      "metadata": {
        "id": "GBAGh9VQqX73"
      },
      "source": [
        "Question no.3"
      ]
    },
    {
      "cell_type": "code",
      "metadata": {
        "id": "HhLDuvBub6t3",
        "colab": {
          "base_uri": "https://localhost:8080/"
        },
        "outputId": "092e5e55-ab3a-402d-acd8-4df3fdb85396"
      },
      "source": [
        "class car: \n",
        "    def __init__(self ,modelNo):\n",
        "        self.modelNo = modelNo\n",
        "\n",
        "\n",
        "def swapModels(car1, car2):\n",
        "    car1.modelNo,car2.modelNo  = car2.modelNo ,car1.modelNo\n",
        "    print(\"The model numbers of both the cars have been swapped\\n\")\n",
        "\n",
        "\n",
        "car1 = car(\"20BCS103\") \n",
        "car2 = car(\"19BDS103\")\n",
        "\n",
        "print(\"Model no.1 :\", car1.modelNo, \"  Model no.2:\", car2.modelNo,\"\\n\")\n",
        "\n",
        "swapModels(car1, car2)\n",
        "\n",
        "print(\"Model no.1 :\", car1.modelNo, \"  Model no.2:\", car2.modelNo,\"\\n\")\n",
        "\n"
      ],
      "execution_count": 10,
      "outputs": [
        {
          "output_type": "stream",
          "name": "stdout",
          "text": [
            "Model no.1 : 20BCS103   Model no.2: 19BDS103 \n",
            "\n",
            "The model numbers of both the cars have been swapped\n",
            "\n",
            "Model no.1 : 19BDS103   Model no.2: 20BCS103 \n",
            "\n"
          ]
        }
      ]
    }
  ]
}